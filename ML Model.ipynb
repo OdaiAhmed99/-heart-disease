{
 "cells": [
  {
   "cell_type": "code",
   "execution_count": 1,
   "id": "3548b8a2",
   "metadata": {},
   "outputs": [],
   "source": [
    "import numpy as np\n",
    "import pandas as pd \n",
    "import seaborn as sns  \n",
    "import matplotlib.pyplot as plt\n",
    "\n",
    "from sklearn.preprocessing import StandardScaler\n",
    "\n",
    "from imblearn.over_sampling import SMOTE\n",
    "\n",
    "from sklearn.model_selection import cross_val_score\n",
    "\n",
    "from sklearn.ensemble import RandomForestClassifier\n",
    "from sklearn.linear_model import LogisticRegression\n",
    "from sklearn.neighbors import KNeighborsClassifier\n",
    "from sklearn.svm import  SVC\n",
    "\n",
    "from sklearn.model_selection import KFold\n",
    "from sklearn.metrics import accuracy_score\n",
    "from sklearn.base import clone\n",
    "\n",
    "from sklearn.metrics import classification_report,confusion_matrix,RocCurveDisplay,ConfusionMatrixDisplay\n",
    "sns.set()\n"
   ]
  },
  {
   "cell_type": "code",
   "execution_count": 2,
   "id": "d316c30b",
   "metadata": {},
   "outputs": [],
   "source": [
    "df= pd.read_csv('Heart deises cleand.csv')"
   ]
  },
  {
   "cell_type": "code",
   "execution_count": 3,
   "id": "8d4cbe0b",
   "metadata": {},
   "outputs": [
    {
     "data": {
      "text/html": [
       "<div>\n",
       "<style scoped>\n",
       "    .dataframe tbody tr th:only-of-type {\n",
       "        vertical-align: middle;\n",
       "    }\n",
       "\n",
       "    .dataframe tbody tr th {\n",
       "        vertical-align: top;\n",
       "    }\n",
       "\n",
       "    .dataframe thead th {\n",
       "        text-align: right;\n",
       "    }\n",
       "</style>\n",
       "<table border=\"1\" class=\"dataframe\">\n",
       "  <thead>\n",
       "    <tr style=\"text-align: right;\">\n",
       "      <th></th>\n",
       "      <th>age</th>\n",
       "      <th>Gender</th>\n",
       "      <th>dataset</th>\n",
       "      <th>cp</th>\n",
       "      <th>trestbps</th>\n",
       "      <th>chol</th>\n",
       "      <th>fbs</th>\n",
       "      <th>restecg</th>\n",
       "      <th>thalch</th>\n",
       "      <th>exang</th>\n",
       "      <th>oldpeak</th>\n",
       "      <th>class</th>\n",
       "    </tr>\n",
       "  </thead>\n",
       "  <tbody>\n",
       "    <tr>\n",
       "      <th>0</th>\n",
       "      <td>4</td>\n",
       "      <td>1</td>\n",
       "      <td>0</td>\n",
       "      <td>3</td>\n",
       "      <td>145.0</td>\n",
       "      <td>233.0</td>\n",
       "      <td>1</td>\n",
       "      <td>0</td>\n",
       "      <td>150.0</td>\n",
       "      <td>0</td>\n",
       "      <td>2.3</td>\n",
       "      <td>0</td>\n",
       "    </tr>\n",
       "    <tr>\n",
       "      <th>1</th>\n",
       "      <td>4</td>\n",
       "      <td>1</td>\n",
       "      <td>0</td>\n",
       "      <td>0</td>\n",
       "      <td>160.0</td>\n",
       "      <td>286.0</td>\n",
       "      <td>0</td>\n",
       "      <td>0</td>\n",
       "      <td>108.0</td>\n",
       "      <td>1</td>\n",
       "      <td>1.5</td>\n",
       "      <td>1</td>\n",
       "    </tr>\n",
       "    <tr>\n",
       "      <th>2</th>\n",
       "      <td>4</td>\n",
       "      <td>1</td>\n",
       "      <td>0</td>\n",
       "      <td>0</td>\n",
       "      <td>120.0</td>\n",
       "      <td>229.0</td>\n",
       "      <td>0</td>\n",
       "      <td>0</td>\n",
       "      <td>129.0</td>\n",
       "      <td>1</td>\n",
       "      <td>2.6</td>\n",
       "      <td>1</td>\n",
       "    </tr>\n",
       "    <tr>\n",
       "      <th>3</th>\n",
       "      <td>1</td>\n",
       "      <td>1</td>\n",
       "      <td>0</td>\n",
       "      <td>2</td>\n",
       "      <td>130.0</td>\n",
       "      <td>250.0</td>\n",
       "      <td>0</td>\n",
       "      <td>1</td>\n",
       "      <td>187.0</td>\n",
       "      <td>0</td>\n",
       "      <td>3.5</td>\n",
       "      <td>0</td>\n",
       "    </tr>\n",
       "    <tr>\n",
       "      <th>4</th>\n",
       "      <td>2</td>\n",
       "      <td>0</td>\n",
       "      <td>0</td>\n",
       "      <td>1</td>\n",
       "      <td>130.0</td>\n",
       "      <td>204.0</td>\n",
       "      <td>0</td>\n",
       "      <td>0</td>\n",
       "      <td>172.0</td>\n",
       "      <td>0</td>\n",
       "      <td>1.4</td>\n",
       "      <td>0</td>\n",
       "    </tr>\n",
       "  </tbody>\n",
       "</table>\n",
       "</div>"
      ],
      "text/plain": [
       "   age  Gender  dataset  cp  trestbps   chol  fbs  restecg  thalch  exang  \\\n",
       "0    4       1        0   3     145.0  233.0    1        0   150.0      0   \n",
       "1    4       1        0   0     160.0  286.0    0        0   108.0      1   \n",
       "2    4       1        0   0     120.0  229.0    0        0   129.0      1   \n",
       "3    1       1        0   2     130.0  250.0    0        1   187.0      0   \n",
       "4    2       0        0   1     130.0  204.0    0        0   172.0      0   \n",
       "\n",
       "   oldpeak  class  \n",
       "0      2.3      0  \n",
       "1      1.5      1  \n",
       "2      2.6      1  \n",
       "3      3.5      0  \n",
       "4      1.4      0  "
      ]
     },
     "execution_count": 3,
     "metadata": {},
     "output_type": "execute_result"
    }
   ],
   "source": [
    "df.head()"
   ]
  },
  {
   "cell_type": "code",
   "execution_count": null,
   "id": "ad1a3dca",
   "metadata": {},
   "outputs": [],
   "source": [
    "\n"
   ]
  },
  {
   "cell_type": "code",
   "execution_count": 4,
   "id": "e31daed6",
   "metadata": {},
   "outputs": [
    {
     "data": {
      "image/png": "[encoded data removed]",
      "text/plain": [
       "<Figure size 700x250 with 2 Axes>"
      ]
     },
     "metadata": {},
     "output_type": "display_data"
    }
   ],
   "source": [
    "fig, axs = plt.subplots(1,2 ,figsize=(7,2.5),sharex=True,)\n",
    "default_palette = list(sns.color_palette())\n",
    "\n",
    "axs[0].bar(x=df['class'].value_counts().index ,height= df['class'].value_counts().values ,color =default_palette)\n",
    "axs[0].set_title('Before Oversampling')\n",
    "\n",
    "oversample= SMOTE(sampling_strategy='minority')\n",
    "df, y_over = oversample.fit_resample(df.iloc[:, :-1],df['class'])\n",
    "df['class'] =y_over\n",
    "\n",
    "\n",
    "axs[1].bar(x=df['class'].value_counts().index ,height= df['class'].value_counts().values ,color =default_palette)\n",
    "axs[1].set_title('After Oversampling')\n",
    "\n",
    "\n",
    "axs[0].set_xticks([0 ,1])\n",
    "axs[0].set_xticklabels(['Class 0' ,'class 1'])\n",
    "\n",
    "plt.show()\n"
   ]
  },
  {
   "cell_type": "code",
   "execution_count": 5,
   "id": "84532052",
   "metadata": {},
   "outputs": [],
   "source": [
    "\n",
    "\n",
    "sc = StandardScaler()\n",
    "X_train = sc.fit_transform(df.iloc[:,:-1])\n",
    "\n",
    "df =pd.DataFrame(X_train,columns=df.columns[:-1])\n",
    "df['class'] =y_over"
   ]
  },
  {
   "cell_type": "code",
   "execution_count": null,
   "id": "69d8abd4",
   "metadata": {},
   "outputs": [],
   "source": []
  },
  {
   "cell_type": "code",
   "execution_count": null,
   "id": "7ae03a06",
   "metadata": {},
   "outputs": [],
   "source": [
    "\n"
   ]
  },
  {
   "cell_type": "code",
   "execution_count": 6,
   "id": "0bcefba9",
   "metadata": {},
   "outputs": [
    {
     "data": {
      "text/html": [
       "<div>\n",
       "<style scoped>\n",
       "    .dataframe tbody tr th:only-of-type {\n",
       "        vertical-align: middle;\n",
       "    }\n",
       "\n",
       "    .dataframe tbody tr th {\n",
       "        vertical-align: top;\n",
       "    }\n",
       "\n",
       "    .dataframe thead th {\n",
       "        text-align: right;\n",
       "    }\n",
       "</style>\n",
       "<table border=\"1\" class=\"dataframe\">\n",
       "  <thead>\n",
       "    <tr style=\"text-align: right;\">\n",
       "      <th></th>\n",
       "      <th>age</th>\n",
       "      <th>Gender</th>\n",
       "      <th>dataset</th>\n",
       "      <th>cp</th>\n",
       "      <th>trestbps</th>\n",
       "      <th>chol</th>\n",
       "      <th>fbs</th>\n",
       "      <th>restecg</th>\n",
       "      <th>thalch</th>\n",
       "      <th>exang</th>\n",
       "      <th>oldpeak</th>\n",
       "      <th>class</th>\n",
       "    </tr>\n",
       "  </thead>\n",
       "  <tbody>\n",
       "    <tr>\n",
       "      <th>0</th>\n",
       "      <td>1.178041</td>\n",
       "      <td>0.577350</td>\n",
       "      <td>-1.054726</td>\n",
       "      <td>2.351116</td>\n",
       "      <td>0.794764</td>\n",
       "      <td>0.282265</td>\n",
       "      <td>2.522364</td>\n",
       "      <td>-1.549378</td>\n",
       "      <td>0.450446</td>\n",
       "      <td>-0.755198</td>\n",
       "      <td>1.456941</td>\n",
       "      <td>0</td>\n",
       "    </tr>\n",
       "    <tr>\n",
       "      <th>1</th>\n",
       "      <td>1.178041</td>\n",
       "      <td>0.577350</td>\n",
       "      <td>-1.054726</td>\n",
       "      <td>-0.848081</td>\n",
       "      <td>1.693721</td>\n",
       "      <td>0.872896</td>\n",
       "      <td>-0.396454</td>\n",
       "      <td>-1.549378</td>\n",
       "      <td>-1.228086</td>\n",
       "      <td>1.324155</td>\n",
       "      <td>0.659419</td>\n",
       "      <td>1</td>\n",
       "    </tr>\n",
       "    <tr>\n",
       "      <th>2</th>\n",
       "      <td>1.178041</td>\n",
       "      <td>0.577350</td>\n",
       "      <td>-1.054726</td>\n",
       "      <td>-0.848081</td>\n",
       "      <td>-0.703499</td>\n",
       "      <td>0.237690</td>\n",
       "      <td>-0.396454</td>\n",
       "      <td>-1.549378</td>\n",
       "      <td>-0.388820</td>\n",
       "      <td>1.324155</td>\n",
       "      <td>1.756013</td>\n",
       "      <td>1</td>\n",
       "    </tr>\n",
       "    <tr>\n",
       "      <th>3</th>\n",
       "      <td>-1.864899</td>\n",
       "      <td>0.577350</td>\n",
       "      <td>-1.054726</td>\n",
       "      <td>1.284717</td>\n",
       "      <td>-0.104194</td>\n",
       "      <td>0.471713</td>\n",
       "      <td>-0.396454</td>\n",
       "      <td>0.050386</td>\n",
       "      <td>1.929153</td>\n",
       "      <td>-0.755198</td>\n",
       "      <td>2.653226</td>\n",
       "      <td>0</td>\n",
       "    </tr>\n",
       "    <tr>\n",
       "      <th>4</th>\n",
       "      <td>-0.850586</td>\n",
       "      <td>-1.732051</td>\n",
       "      <td>-1.054726</td>\n",
       "      <td>0.218318</td>\n",
       "      <td>-0.104194</td>\n",
       "      <td>-0.040910</td>\n",
       "      <td>-0.396454</td>\n",
       "      <td>-1.549378</td>\n",
       "      <td>1.329677</td>\n",
       "      <td>-0.755198</td>\n",
       "      <td>0.559728</td>\n",
       "      <td>0</td>\n",
       "    </tr>\n",
       "    <tr>\n",
       "      <th>...</th>\n",
       "      <td>...</td>\n",
       "      <td>...</td>\n",
       "      <td>...</td>\n",
       "      <td>...</td>\n",
       "      <td>...</td>\n",
       "      <td>...</td>\n",
       "      <td>...</td>\n",
       "      <td>...</td>\n",
       "      <td>...</td>\n",
       "      <td>...</td>\n",
       "      <td>...</td>\n",
       "      <td>...</td>\n",
       "    </tr>\n",
       "    <tr>\n",
       "      <th>1011</th>\n",
       "      <td>-0.850586</td>\n",
       "      <td>-1.732051</td>\n",
       "      <td>-0.157988</td>\n",
       "      <td>0.218318</td>\n",
       "      <td>-0.104194</td>\n",
       "      <td>0.496715</td>\n",
       "      <td>-0.396454</td>\n",
       "      <td>0.050386</td>\n",
       "      <td>0.631376</td>\n",
       "      <td>-0.755198</td>\n",
       "      <td>-0.835937</td>\n",
       "      <td>0</td>\n",
       "    </tr>\n",
       "    <tr>\n",
       "      <th>1012</th>\n",
       "      <td>-0.850586</td>\n",
       "      <td>0.577350</td>\n",
       "      <td>-1.054726</td>\n",
       "      <td>-0.848081</td>\n",
       "      <td>0.009739</td>\n",
       "      <td>-0.003620</td>\n",
       "      <td>-0.396454</td>\n",
       "      <td>-1.549378</td>\n",
       "      <td>1.169817</td>\n",
       "      <td>-0.755198</td>\n",
       "      <td>-0.737332</td>\n",
       "      <td>0</td>\n",
       "    </tr>\n",
       "    <tr>\n",
       "      <th>1013</th>\n",
       "      <td>0.163728</td>\n",
       "      <td>0.577350</td>\n",
       "      <td>0.738750</td>\n",
       "      <td>-0.848081</td>\n",
       "      <td>0.252834</td>\n",
       "      <td>-0.274286</td>\n",
       "      <td>-0.396454</td>\n",
       "      <td>0.050386</td>\n",
       "      <td>-0.008703</td>\n",
       "      <td>-0.755198</td>\n",
       "      <td>-0.582546</td>\n",
       "      <td>0</td>\n",
       "    </tr>\n",
       "    <tr>\n",
       "      <th>1014</th>\n",
       "      <td>-0.850586</td>\n",
       "      <td>-1.732051</td>\n",
       "      <td>-1.054726</td>\n",
       "      <td>0.218318</td>\n",
       "      <td>-0.226933</td>\n",
       "      <td>1.117528</td>\n",
       "      <td>-0.396454</td>\n",
       "      <td>-1.549378</td>\n",
       "      <td>1.243029</td>\n",
       "      <td>-0.755198</td>\n",
       "      <td>-0.835937</td>\n",
       "      <td>0</td>\n",
       "    </tr>\n",
       "    <tr>\n",
       "      <th>1015</th>\n",
       "      <td>-0.850586</td>\n",
       "      <td>-1.732051</td>\n",
       "      <td>-0.157988</td>\n",
       "      <td>-0.848081</td>\n",
       "      <td>0.495111</td>\n",
       "      <td>0.144228</td>\n",
       "      <td>-0.396454</td>\n",
       "      <td>0.050386</td>\n",
       "      <td>0.176818</td>\n",
       "      <td>-0.755198</td>\n",
       "      <td>0.008128</td>\n",
       "      <td>0</td>\n",
       "    </tr>\n",
       "  </tbody>\n",
       "</table>\n",
       "<p>1016 rows × 12 columns</p>\n",
       "</div>"
      ],
      "text/plain": [
       "           age    Gender   dataset        cp  trestbps      chol       fbs  \\\n",
       "0     1.178041  0.577350 -1.054726  2.351116  0.794764  0.282265  2.522364   \n",
       "1     1.178041  0.577350 -1.054726 -0.848081  1.693721  0.872896 -0.396454   \n",
       "2     1.178041  0.577350 -1.054726 -0.848081 -0.703499  0.237690 -0.396454   \n",
       "3    -1.864899  0.577350 -1.054726  1.284717 -0.104194  0.471713 -0.396454   \n",
       "4    -0.850586 -1.732051 -1.054726  0.218318 -0.104194 -0.040910 -0.396454   \n",
       "...        ...       ...       ...       ...       ...       ...       ...   \n",
       "1011 -0.850586 -1.732051 -0.157988  0.218318 -0.104194  0.496715 -0.396454   \n",
       "1012 -0.850586  0.577350 -1.054726 -0.848081  0.009739 -0.003620 -0.396454   \n",
       "1013  0.163728  0.577350  0.738750 -0.848081  0.252834 -0.274286 -0.396454   \n",
       "1014 -0.850586 -1.732051 -1.054726  0.218318 -0.226933  1.117528 -0.396454   \n",
       "1015 -0.850586 -1.732051 -0.157988 -0.848081  0.495111  0.144228 -0.396454   \n",
       "\n",
       "       restecg    thalch     exang   oldpeak  class  \n",
       "0    -1.549378  0.450446 -0.755198  1.456941      0  \n",
       "1    -1.549378 -1.228086  1.324155  0.659419      1  \n",
       "2    -1.549378 -0.388820  1.324155  1.756013      1  \n",
       "3     0.050386  1.929153 -0.755198  2.653226      0  \n",
       "4    -1.549378  1.329677 -0.755198  0.559728      0  \n",
       "...        ...       ...       ...       ...    ...  \n",
       "1011  0.050386  0.631376 -0.755198 -0.835937      0  \n",
       "1012 -1.549378  1.169817 -0.755198 -0.737332      0  \n",
       "1013  0.050386 -0.008703 -0.755198 -0.582546      0  \n",
       "1014 -1.549378  1.243029 -0.755198 -0.835937      0  \n",
       "1015  0.050386  0.176818 -0.755198  0.008128      0  \n",
       "\n",
       "[1016 rows x 12 columns]"
      ]
     },
     "execution_count": 6,
     "metadata": {},
     "output_type": "execute_result"
    }
   ],
   "source": [
    "df"
   ]
  },
  {
   "cell_type": "code",
   "execution_count": 7,
   "id": "0a67d6de",
   "metadata": {},
   "outputs": [],
   "source": [
    "\n",
    "def train_best_model(X_over, k):\n",
    "    data = X_over.index\n",
    "    best_model = None\n",
    "    best_score = 0\n",
    "    best_train_data = None\n",
    "    best_test_data = None\n",
    "    df = pd.DataFrame(columns=[\"fold_\" + str(n) for n in range(1, k + 1)])\n",
    "\n",
    "    models = {\n",
    "        'SVC': SVC(),\n",
    "        'RandomForest': RandomForestClassifier(),\n",
    "        'KNN': KNeighborsClassifier(),\n",
    "        'LogisticRegression': LogisticRegression()\n",
    "    }\n",
    "\n",
    "    kfold = KFold(n_splits=k, shuffle=True, random_state=1)\n",
    "\n",
    "    for model_name, model in models.items():\n",
    "        scores = []\n",
    "        train_data = []\n",
    "        test_data = []\n",
    "        \n",
    "        for fold_n, (train, test) in enumerate(kfold.split(data), start=1):\n",
    "            x_train = X_over.loc[data[train]]\n",
    "            y_train = X_over.loc[data[test]]\n",
    "            \n",
    "            # Check if any class is present in both train and test\n",
    "            if len(set(train) & set(test)) != 0:\n",
    "                continue\n",
    "            model = clone(model)\n",
    "\n",
    "            model.fit(x_train.iloc[:, :-1], x_train['class'])\n",
    "            y_pred = model.predict(y_train.iloc[:, :-1])\n",
    "            \n",
    "            score = accuracy_score(y_train['class'], y_pred)\n",
    "            \n",
    "        \n",
    "            scores.append(score)\n",
    "            df.loc[model_name, \"fold_\" + str(fold_n)] = score\n",
    "\n",
    "            if score > best_score:\n",
    "                best_score = max(scores)\n",
    "                best_model = model_name\n",
    "                best_train_data = x_train\n",
    "                best_test_data = y_train\n",
    "                yourmodel= model\n",
    "    df[\"Max\"] =[ df.loc[i].max() for i in df.index]\n",
    "    \n",
    "    return best_model, best_score, best_train_data, best_test_data, df,yourmodel\n"
   ]
  },
  {
   "cell_type": "code",
   "execution_count": 8,
   "id": "6e09ec18",
   "metadata": {},
   "outputs": [],
   "source": [
    "best_model, best_score, best_train_data, best_test_data,Folde_State,yourmodel =train_best_model(df,8)"
   ]
  },
  {
   "cell_type": "code",
   "execution_count": 9,
   "id": "7ff3951c",
   "metadata": {
    "scrolled": true
   },
   "outputs": [
    {
     "name": "stdout",
     "output_type": "stream",
     "text": [
      "Training Sample : 87.5\n",
      "Testing Sample : 12.5\n"
     ]
    }
   ],
   "source": [
    "k=8\n",
    "test_size =(df.shape[0] /k)\n",
    "train_size = df.shape[0] -test_size\n",
    "print(\"Training Sample :\", round(train_size / df.shape[0] *100,2))\n",
    "print(\"Testing Sample :\", round(test_size / df.shape[0] *100,2))"
   ]
  },
  {
   "cell_type": "code",
   "execution_count": 10,
   "id": "9f9b26b9",
   "metadata": {},
   "outputs": [
    {
     "data": {
      "text/html": [
       "<div>\n",
       "<style scoped>\n",
       "    .dataframe tbody tr th:only-of-type {\n",
       "        vertical-align: middle;\n",
       "    }\n",
       "\n",
       "    .dataframe tbody tr th {\n",
       "        vertical-align: top;\n",
       "    }\n",
       "\n",
       "    .dataframe thead th {\n",
       "        text-align: right;\n",
       "    }\n",
       "</style>\n",
       "<table border=\"1\" class=\"dataframe\">\n",
       "  <thead>\n",
       "    <tr style=\"text-align: right;\">\n",
       "      <th></th>\n",
       "      <th>fold_1</th>\n",
       "      <th>fold_2</th>\n",
       "      <th>fold_3</th>\n",
       "      <th>fold_4</th>\n",
       "      <th>fold_5</th>\n",
       "      <th>fold_6</th>\n",
       "      <th>fold_7</th>\n",
       "      <th>fold_8</th>\n",
       "      <th>Max</th>\n",
       "    </tr>\n",
       "  </thead>\n",
       "  <tbody>\n",
       "    <tr>\n",
       "      <th>SVC</th>\n",
       "      <td>0.811024</td>\n",
       "      <td>0.818898</td>\n",
       "      <td>0.771654</td>\n",
       "      <td>0.76378</td>\n",
       "      <td>0.826772</td>\n",
       "      <td>0.866142</td>\n",
       "      <td>0.905512</td>\n",
       "      <td>0.84252</td>\n",
       "      <td>0.905512</td>\n",
       "    </tr>\n",
       "    <tr>\n",
       "      <th>RandomForest</th>\n",
       "      <td>0.858268</td>\n",
       "      <td>0.80315</td>\n",
       "      <td>0.771654</td>\n",
       "      <td>0.80315</td>\n",
       "      <td>0.818898</td>\n",
       "      <td>0.874016</td>\n",
       "      <td>0.88189</td>\n",
       "      <td>0.858268</td>\n",
       "      <td>0.881890</td>\n",
       "    </tr>\n",
       "    <tr>\n",
       "      <th>KNN</th>\n",
       "      <td>0.811024</td>\n",
       "      <td>0.811024</td>\n",
       "      <td>0.755906</td>\n",
       "      <td>0.811024</td>\n",
       "      <td>0.850394</td>\n",
       "      <td>0.850394</td>\n",
       "      <td>0.889764</td>\n",
       "      <td>0.826772</td>\n",
       "      <td>0.889764</td>\n",
       "    </tr>\n",
       "    <tr>\n",
       "      <th>LogisticRegression</th>\n",
       "      <td>0.80315</td>\n",
       "      <td>0.811024</td>\n",
       "      <td>0.80315</td>\n",
       "      <td>0.787402</td>\n",
       "      <td>0.84252</td>\n",
       "      <td>0.858268</td>\n",
       "      <td>0.850394</td>\n",
       "      <td>0.826772</td>\n",
       "      <td>0.858268</td>\n",
       "    </tr>\n",
       "  </tbody>\n",
       "</table>\n",
       "</div>"
      ],
      "text/plain": [
       "                      fold_1    fold_2    fold_3    fold_4    fold_5  \\\n",
       "SVC                 0.811024  0.818898  0.771654   0.76378  0.826772   \n",
       "RandomForest        0.858268   0.80315  0.771654   0.80315  0.818898   \n",
       "KNN                 0.811024  0.811024  0.755906  0.811024  0.850394   \n",
       "LogisticRegression   0.80315  0.811024   0.80315  0.787402   0.84252   \n",
       "\n",
       "                      fold_6    fold_7    fold_8       Max  \n",
       "SVC                 0.866142  0.905512   0.84252  0.905512  \n",
       "RandomForest        0.874016   0.88189  0.858268  0.881890  \n",
       "KNN                 0.850394  0.889764  0.826772  0.889764  \n",
       "LogisticRegression  0.858268  0.850394  0.826772  0.858268  "
      ]
     },
     "execution_count": 10,
     "metadata": {},
     "output_type": "execute_result"
    }
   ],
   "source": [
    "Folde_State"
   ]
  },
  {
   "cell_type": "code",
   "execution_count": 11,
   "id": "486597f3",
   "metadata": {
    "scrolled": true
   },
   "outputs": [
    {
     "name": "stdout",
     "output_type": "stream",
     "text": [
      "best_model SVC\n",
      "best_score 0.905511811023622\n"
     ]
    }
   ],
   "source": [
    "print('best_model',best_model)\n",
    "print('best_score',best_score)"
   ]
  },
  {
   "cell_type": "code",
   "execution_count": 12,
   "id": "097c92fc",
   "metadata": {},
   "outputs": [],
   "source": [
    "conf =ConfusionMatrixDisplay(confusion_matrix(y_true=best_test_data['class'] ,  y_pred= yourmodel.predict(best_test_data.iloc[:,:-1] ) ))"
   ]
  },
  {
   "cell_type": "code",
   "execution_count": 13,
   "id": "c2d06973",
   "metadata": {
    "scrolled": false
   },
   "outputs": [
    {
     "data": {
      "text/plain": [
       "<sklearn.metrics._plot.confusion_matrix.ConfusionMatrixDisplay at 0x1c34542caf0>"
      ]
     },
     "execution_count": 13,
     "metadata": {},
     "output_type": "execute_result"
    },
    {
     "data": {
      "image/png": "[encoded data removed]",
      "text/plain": [
       "<Figure size 640x480 with 2 Axes>"
      ]
     },
     "metadata": {},
     "output_type": "display_data"
    }
   ],
   "source": [
    "\n",
    "conf.from_estimator(yourmodel ,best_test_data.iloc[:,:-1], best_test_data.iloc[:,-1] )"
   ]
  },
  {
   "cell_type": "code",
   "execution_count": 14,
   "id": "767d6dac",
   "metadata": {},
   "outputs": [
    {
     "name": "stdout",
     "output_type": "stream",
     "text": [
      "              precision    recall  f1-score   support\n",
      "\n",
      "           0       0.89      0.94      0.91        66\n",
      "           1       0.93      0.87      0.90        61\n",
      "\n",
      "    accuracy                           0.91       127\n",
      "   macro avg       0.91      0.90      0.91       127\n",
      "weighted avg       0.91      0.91      0.91       127\n",
      "\n"
     ]
    }
   ],
   "source": [
    "print(classification_report(y_true=best_test_data['class'] ,  y_pred= yourmodel.predict(best_test_data.iloc[:,:-1] ) ))"
   ]
  },
  {
   "cell_type": "code",
   "execution_count": 15,
   "id": "7adf478a",
   "metadata": {},
   "outputs": [
    {
     "data": {
      "text/plain": [
       "(0.0, 1.05)"
      ]
     },
     "execution_count": 15,
     "metadata": {},
     "output_type": "execute_result"
    },
    {
     "data": {
      "image/png": "[encoded data removed]",
      "text/plain": [
       "<Figure size 640x480 with 1 Axes>"
      ]
     },
     "metadata": {},
     "output_type": "display_data"
    }
   ],
   "source": [
    "\n",
    "y_pred = yourmodel.predict(best_test_data.iloc[:,:-1] )\n",
    "y_scores = yourmodel.decision_function(best_test_data.iloc[:,:-1] )  \n",
    "roc_display = RocCurveDisplay.from_predictions(best_test_data.iloc[:,-1], y_scores)\n",
    "\n",
    "\n",
    "plt.xlim(0)\n",
    "plt.ylim(0)\n"
   ]
  },
  {
   "cell_type": "code",
   "execution_count": null,
   "id": "701549dd",
   "metadata": {},
   "outputs": [],
   "source": []
  },
  {
   "cell_type": "code",
   "execution_count": 21,
   "id": "bb42c420",
   "metadata": {},
   "outputs": [
    {
     "data": {
      "text/plain": [
       "<bound method BaseSVC.decision_function of SVC()>"
      ]
     },
     "execution_count": 21,
     "metadata": {},
     "output_type": "execute_result"
    }
   ],
   "source": [
    "yourmodel."
   ]
  }
 ],
 "metadata": {
  "kernelspec": {
   "display_name": "Python 3 (ipykernel)",
   "language": "python",
   "name": "python3"
  },
  "language_info": {
   "codemirror_mode": {
    "name": "ipython",
    "version": 3
   },
   "file_extension": ".py",
   "mimetype": "text/x-python",
   "name": "python",
   "nbconvert_exporter": "python",
   "pygments_lexer": "ipython3",
   "version": "3.10.9"
  }
 },
 "nbformat": 4,
 "nbformat_minor": 5
}
